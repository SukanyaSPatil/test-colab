{
  "nbformat": 4,
  "nbformat_minor": 0,
  "metadata": {
    "colab": {
      "name": "intro.ipynb",
      "provenance": [],
      "toc_visible": true,
      "authorship_tag": "ABX9TyNXGIBsZcXPP1pH0gRng2Jc",
      "include_colab_link": true
    },
    "kernelspec": {
      "name": "python3",
      "display_name": "Python 3"
    },
    "language_info": {
      "name": "python"
    }
  },
  "cells": [
    {
      "cell_type": "markdown",
      "metadata": {
        "id": "view-in-github",
        "colab_type": "text"
      },
      "source": [
        "<a href=\"https://colab.research.google.com/github/SukanyaSPatil/test-colab/blob/main/intro.ipynb\" target=\"_parent\"><img src=\"https://colab.research.google.com/assets/colab-badge.svg\" alt=\"Open In Colab\"/></a>"
      ]
    },
    {
      "cell_type": "markdown",
      "source": [
        "\n",
        "\n",
        "\n",
        "\n",
        "\n",
        "\n",
        "\n"
      ],
      "metadata": {
        "id": "LVyeDIpfbwEF"
      }
    },
    {
      "cell_type": "markdown",
      "source": [
        "# How to use Markdown lang\n",
        "\n",
        "bold, Italian, boxing  \n",
        "\n",
        "Examples of **markdown** Lang  \n",
        "Examples of *markdown* Lang  \n",
        "Examples of `markdown` Lang  \n",
        "`Examples of markdown Lang`  \n",
        "\n",
        "Indend\n",
        "> Python\n",
        ">> Python\n",
        "\n",
        "Orderded List\n",
        "1.   List item1\n",
        "2.   List item2\n",
        "\n",
        "Unorderder List\n",
        "\n",
        "*   List item\n",
        "*   List item\n",
        "\n",
        "Lining\n",
        "\n",
        "---  \n",
        "---  \n",
        "\n",
        "Hyperlink\n",
        "[Google](https://www.google.com/)  \n",
        "\n",
        "Image:\n",
        "![Python](https://dribbble.com/shots/4307976-Python-Logo-Abstract)  \n",
        "\n",
        "\n"
      ],
      "metadata": {
        "id": "FE3CXN6ndCsI"
      }
    }
  ]
}